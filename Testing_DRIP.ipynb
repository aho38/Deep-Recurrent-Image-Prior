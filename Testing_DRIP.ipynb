{
 "cells": [
  {
   "cell_type": "markdown",
   "metadata": {},
   "source": [
    "# Table of Content\n",
    "1. [Load Data](#first-bullet)\n",
    "2. [100 intensity](#second-bullet)\n",
    "3. [75 intensity](#third-bullet)\n",
    "4. [50 intensity](#fourth-bullet)\n",
    "5. [25 intensity](#fifth-bullet)\n",
    "6. [Save Image](#sixth-bullet)"
   ]
  },
  {
   "cell_type": "markdown",
   "metadata": {},
   "source": [
    "--------------\n",
    "# Load Data <a class=\"anchor\" id=\"first-bullet\"></a>\n"
   ]
  },
  {
   "cell_type": "code",
   "execution_count": 1,
   "metadata": {},
   "outputs": [],
   "source": [
    "import torchvision\n",
    "from matplotlib.pyplot import imshow, pause\n",
    "\n",
    "datasets=torchvision.datasets.MNIST('./', train=True, transform=None, target_transform=None, download=True)"
   ]
  },
  {
   "cell_type": "code",
   "execution_count": 2,
   "metadata": {},
   "outputs": [],
   "source": [
    "from torch.utils.data import DataLoader\n",
    "from torchvision.datasets import MNIST\n",
    "from torchvision.transforms import ToTensor\n",
    "import numpy as np\n",
    "import matplotlib.pyplot as plt\n",
    "from Functions import *\n",
    "\n",
    "\n",
    "images = getData('MNIST')\n",
    "noisy_images = get_noisy_image(images.numpy(),0.1)"
   ]
  },
  {
   "cell_type": "code",
   "execution_count": 3,
   "metadata": {
    "scrolled": false
   },
   "outputs": [
    {
     "data": {
      "image/png": "[encoded data removed]",
      "text/plain": [
       "<Figure size 432x288 with 1 Axes>"
      ]
     },
     "metadata": {
      "needs_background": "light"
     },
     "output_type": "display_data"
    }
   ],
   "source": [
    "getPlot([np.squeeze(torch.tensor(noisy_images),1),np.squeeze(images,1)])"
   ]
  },
  {
   "cell_type": "markdown",
   "metadata": {},
   "source": [
    "# Trial <a class='anchor' id=\"second-bullet\"></a>"
   ]
  },
  {
   "cell_type": "code",
   "execution_count": 18,
   "metadata": {},
   "outputs": [],
   "source": [
    "import torch.nn as nn\n",
    "\n",
    "class RNN(nn.Module):\n",
    "    \"\"\"docstring for RNN.\"\"\"\n",
    "\n",
    "    def __init__(self, n_steps,n_neurons, gamma=0.001, epsilon=0.01):\n",
    "        super(RNN, self).__init__()\n",
    "        self.W = nn.Parameter(torch.randn(n_neurons, n_neurons))\n",
    "        self.b = nn.Parameter(torch.randn(1,n_neurons))\n",
    "        self.gamma = gamma\n",
    "        self.epsilon = epsilon\n",
    "        self.n_neurons = n_neurons\n",
    "\n",
    "    def forward(self, X):\n",
    "        output = []\n",
    "        self.ht = torch.zeros(X.shape[0], self.n_neurons)\n",
    "        states = []\n",
    "        states.append(self.ht)\n",
    "\n",
    "        for i in range(n_steps):\n",
    "            alpha = torch.mm(states[i],W)+self.b\n",
    "            self.ht = states[i] + self.epsilon*torch.tanh(alpha)\n",
    "            states.append(self.ht)\n",
    "        return states"
   ]
  },
  {
   "cell_type": "code",
   "execution_count": 20,
   "metadata": {},
   "outputs": [],
   "source": [
    "net = RNN(n_steps=30,n_neurons=28)\n",
    "optimizer = torch.optim.Adam(net.parameters(), lr=0.01)\n",
    "criterion = nn.MSELoss()\n",
    "n_epochs = 5"
   ]
  },
  {
   "cell_type": "code",
   "execution_count": null,
   "metadata": {},
   "outputs": [],
   "source": [
    "for epoch in range(1, n_epochs + 1):\n",
    "    optimizer.zero_grad() # Clears existing gradients from previous epoch\n",
    "    y_pred, _ = net(torch.tensor())\n",
    "    loss = criterion(y_pred, torch.tensor(y_batch, dtype=torch.float))\n",
    "    loss.backward() # Does backpropagation and calculates gradients\n",
    "    optimizer.step() # Updates the weights accordinglyoutput, hidden = model(input_seq)\n",
    "    if epoch%10 == 0:\n",
    "        print('Epoch: {}/{}.............'.format(epoch, n_epochs), end=' ')\n",
    "        print(\"Loss: {:.8e}\".format(loss.item()))"
   ]
  }
 ],
 "metadata": {
  "kernelspec": {
   "display_name": "Python 3",
   "language": "python",
   "name": "python3"
  },
  "language_info": {
   "codemirror_mode": {
    "name": "ipython",
    "version": 3
   },
   "file_extension": ".py",
   "mimetype": "text/x-python",
   "name": "python",
   "nbconvert_exporter": "python",
   "pygments_lexer": "ipython3",
   "version": "3.7.3"
  }
 },
 "nbformat": 4,
 "nbformat_minor": 2
}
