{
 "cells": [
  {
   "cell_type": "markdown",
   "metadata": {},
   "source": [
    "# Table of Content\n",
    "1. [Load Data](#first-bullet)\n",
    "2. [Define Net](#second-bullet)\n",
    "3. [Getting Noise as Input](#third-bullet)\n",
    "4. [trial 3](#fourth-bullet)\n",
    "5. [trial 4](#fifth-bullet)\n",
    "6. [trial 5](#sixth-bullet)"
   ]
  },
  {
   "cell_type": "code",
   "execution_count": 2,
   "metadata": {},
   "outputs": [],
   "source": [
    "import torchvision\n",
    "from matplotlib.pyplot import imshow, pause"
   ]
  },
  {
   "cell_type": "code",
   "execution_count": 3,
   "metadata": {},
   "outputs": [],
   "source": [
    "import numpy as np\n",
    "import matplotlib.pyplot as plt\n",
    "from Functions import *\n",
    "\n",
    "sigma = 0.1\n",
    "\n",
    "images = getData('MNIST')\n",
    "noisy_images = get_noisy_image(images.numpy(),sigma)\n",
    "noisy_images = np.squeeze(torch.tensor(noisy_images),1)\n",
    "images = np.squeeze(images,1)"
   ]
  },
  {
   "cell_type": "markdown",
   "metadata": {},
   "source": [
    "--------------\n",
    "# Load Data <a class=\"anchor\" id=\"first-bullet\"></a>"
   ]
  },
  {
   "cell_type": "code",
   "execution_count": 12,
   "metadata": {},
   "outputs": [
    {
     "name": "stdout",
     "output_type": "stream",
     "text": [
      "noisy image size:\n",
      " torch.Size([1, 28, 28]) \n",
      "\n",
      "true image size:\n",
      " torch.Size([1, 28, 28])\n"
     ]
    },
    {
     "data": {
      "image/png": "[encoded data removed]",
      "text/plain": [
       "<Figure size 432x288 with 1 Axes>"
      ]
     },
     "metadata": {
      "needs_background": "light"
     },
     "output_type": "display_data"
    }
   ],
   "source": [
    "getPlot([noisy_images,images])\n",
    "print(\"noisy image size:\\n\",noisy_images.shape, \"\\n\")\n",
    "print(\"true image size:\\n\",images.shape)"
   ]
  },
  {
   "cell_type": "markdown",
   "metadata": {},
   "source": [
    "----------------\n",
    "# Network <a class=\"anchor\" id=\"second-bullet\"></a>"
   ]
  },
  {
   "cell_type": "code",
   "execution_count": 40,
   "metadata": {},
   "outputs": [],
   "source": [
    "class RNN(nn.Module):\n",
    "    def __init__(self):\n",
    "        super(RNN, self).__init__()\n",
    "        self.fn = nn.Linear(28*28,28*28)\n",
    "        \n",
    "    def forward(self, x, h):\n",
    "        x = x.view(-1,28*28)\n",
    "        h = x.view(-1,28*28)\n",
    "        h = self.fn(x) + self.fn(h)\n",
    "        \n",
    "        f = self.fn(h)\n",
    "        \n",
    "        return f"
   ]
  },
  {
   "cell_type": "code",
   "execution_count": 41,
   "metadata": {},
   "outputs": [],
   "source": [
    "from torchsummary import summary"
   ]
  },
  {
   "cell_type": "code",
   "execution_count": 58,
   "metadata": {},
   "outputs": [],
   "source": [
    "class test_RNN(nn.Module):\n",
    "    def __init__(self):\n",
    "        super(test_RNN, self).__init__()\n",
    "        self.fn = nn.Linear(28*28,28*28)\n",
    "        \n",
    "    def forward(self, x):\n",
    "        x = x.view(-1,28*28)\n",
    "        h = x\n",
    "        h = self.fn(x) + self.fn(h)\n",
    "        \n",
    "        f = self.fn(h)\n",
    "        \n",
    "        return f\n",
    "\n",
    "test_net = test_RNN()"
   ]
  },
  {
   "cell_type": "code",
   "execution_count": 59,
   "metadata": {},
   "outputs": [
    {
     "name": "stdout",
     "output_type": "stream",
     "text": [
      "----------------------------------------------------------------\n",
      "        Layer (type)               Output Shape         Param #\n",
      "================================================================\n",
      "            Linear-1                  [-1, 784]         615,440\n",
      "            Linear-2                  [-1, 784]         615,440\n",
      "            Linear-3                  [-1, 784]         615,440\n",
      "================================================================\n",
      "Total params: 1,846,320\n",
      "Trainable params: 1,846,320\n",
      "Non-trainable params: 0\n",
      "----------------------------------------------------------------\n",
      "Input size (MB): 0.00\n",
      "Forward/backward pass size (MB): 0.02\n",
      "Params size (MB): 7.04\n",
      "Estimated Total Size (MB): 7.06\n",
      "----------------------------------------------------------------\n"
     ]
    }
   ],
   "source": [
    "summary(test_net,input_size=(1, 28, 28))"
   ]
  },
  {
   "cell_type": "markdown",
   "metadata": {},
   "source": [
    "----------------\n",
    "# Noise <a class=\"anchor\" id=\"third-bullet\"></a>"
   ]
  },
  {
   "cell_type": "code",
   "execution_count": 55,
   "metadata": {},
   "outputs": [],
   "source": [
    "img_noise = np.random.normal(scale=sigma, size=images.shape)"
   ]
  },
  {
   "cell_type": "code",
   "execution_count": 56,
   "metadata": {},
   "outputs": [
    {
     "data": {
      "text/plain": [
       "torch.Size([28, 28])"
      ]
     },
     "execution_count": 56,
     "metadata": {},
     "output_type": "execute_result"
    },
    {
     "data": {
      "image/png": "[encoded data removed]",
      "text/plain": [
       "<Figure size 432x288 with 1 Axes>"
      ]
     },
     "metadata": {
      "needs_background": "light"
     },
     "output_type": "display_data"
    }
   ],
   "source": [
    "img_noise = np.squeeze(torch.tensor(img_noise))\n",
    "getPlot([img_noise, img_noise])\n",
    "img_noise.size()"
   ]
  },
  {
   "cell_type": "code",
   "execution_count": 61,
   "metadata": {},
   "outputs": [],
   "source": [
    " h = torch.zeros(images.shape)"
   ]
  },
  {
   "cell_type": "code",
   "execution_count": null,
   "metadata": {},
   "outputs": [],
   "source": []
  }
 ],
 "metadata": {
  "kernelspec": {
   "display_name": "Python 3",
   "language": "python",
   "name": "python3"
  },
  "language_info": {
   "codemirror_mode": {
    "name": "ipython",
    "version": 3
   },
   "file_extension": ".py",
   "mimetype": "text/x-python",
   "name": "python",
   "nbconvert_exporter": "python",
   "pygments_lexer": "ipython3",
   "version": "3.7.3"
  }
 },
 "nbformat": 4,
 "nbformat_minor": 2
}
